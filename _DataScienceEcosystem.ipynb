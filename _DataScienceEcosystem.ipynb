{
 "cells": [
  {
   "cell_type": "markdown",
   "id": "a8ae7114-629b-45d2-909a-1327768ab310",
   "metadata": {},
   "source": [
    "<h1>Data Science Tools and Ecosystem</h1>"
   ]
  },
  {
   "cell_type": "markdown",
   "id": "4a04f886-66fe-4091-8cb3-2e29d1f587f3",
   "metadata": {},
   "source": [
    "In this notebook, Data Science Tools and Ecosystem are summarized."
   ]
  },
  {
   "cell_type": "markdown",
   "id": "269d8b05-2019-46c8-a10a-0e410a4d7aa3",
   "metadata": {},
   "source": [
    "Some of the popular languages that Data Scientists use are:\n",
    "      <ol>\n",
    "    <li> R Program </li>\n",
    "    <li> Python </li>\n",
    "    <li> Java </li>\n",
    "    <li> Julia </li>\n",
    "    </ol>"
   ]
  },
  {
   "cell_type": "markdown",
   "id": "970cbad3-c8cf-4077-b447-edf7b19b5aea",
   "metadata": {},
   "source": [
    "Some of the commonly used libraries used by Data Scientists include:\n",
    "<ul>\n",
    "    <li> PyTorch </li>\n",
    "    <li> TensorFlow </li>\n",
    "    <li> Pandas </li>\n",
    "    <li> SciPy </li>\n",
    "    </ul>"
   ]
  },
  {
   "cell_type": "markdown",
   "id": "c0bd3621-fbc5-4fe1-b86c-5c7dbf8a69ee",
   "metadata": {},
   "source": [
    "| --- | --- | --- |\n",
    "| S.No | Language | Status |\n",
    "| --- | --- | --- |\n",
    "| 1 | Python | Learning |"
   ]
  },
  {
   "cell_type": "markdown",
   "id": "15f11025-a677-4955-9f7f-e045ebe3ba6e",
   "metadata": {},
   "source": [
    "<h3> Below are a few examples of evaluating arithmetic expressions in Python </h3>"
   ]
  },
  {
   "cell_type": "code",
   "execution_count": 2,
   "id": "faca7d8b-c4c3-41f3-8970-91affc4953fe",
   "metadata": {},
   "outputs": [
    {
     "data": {
      "text/plain": [
       "17"
      ]
     },
     "execution_count": 2,
     "metadata": {},
     "output_type": "execute_result"
    }
   ],
   "source": [
    "# This a simple arithmetic expression to mutiply then add integers\n",
    "(3*4)+5"
   ]
  },
  {
   "cell_type": "code",
   "execution_count": 3,
   "id": "82d65f08-0514-444a-95c6-9d6a742325dc",
   "metadata": {},
   "outputs": [
    {
     "data": {
      "text/plain": [
       "20"
      ]
     },
     "execution_count": 3,
     "metadata": {},
     "output_type": "execute_result"
    }
   ],
   "source": [
    "#This will convert 200 minutes to hours by diving by 60\n",
    "200%60"
   ]
  },
  {
   "cell_type": "markdown",
   "id": "f4309f27-047e-477c-b385-67ff2905f4b7",
   "metadata": {},
   "source": [
    "<b> Objectives: </b>\n",
    "<p> List popular languages for Data Science </p>\n",
    "<ul> \n",
    "<li> R Program </li>\n",
    "    <li> Python </li>\n",
    "    <li> Scala </li>\n",
    "</ul>"
   ]
  },
  {
   "cell_type": "markdown",
   "id": "82685833-9674-420f-bfc1-20f869f7ceb3",
   "metadata": {},
   "source": [
    "<h2>Author</h2>\n",
    "<b> Vaageessan </b>"
   ]
  },
  {
   "cell_type": "code",
   "execution_count": null,
   "id": "75c5e1c1-f7c5-41fd-acea-a233f0c33b7c",
   "metadata": {},
   "outputs": [],
   "source": []
  }
 ],
 "metadata": {
  "kernelspec": {
   "display_name": "Python",
   "language": "python",
   "name": "conda-env-python-py"
  },
  "language_info": {
   "codemirror_mode": {
    "name": "ipython",
    "version": 3
   },
   "file_extension": ".py",
   "mimetype": "text/x-python",
   "name": "python",
   "nbconvert_exporter": "python",
   "pygments_lexer": "ipython3",
   "version": "3.7.12"
  }
 },
 "nbformat": 4,
 "nbformat_minor": 5
}
